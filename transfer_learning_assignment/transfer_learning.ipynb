{
  "cells": [
    {
      "cell_type": "markdown",
      "metadata": {
        "id": "BOlo4Ctmtm4p"
      },
      "source": [
        "# Transfer Learning Assignment\n",
        "반갑습니다 여러분. 과제를 맡은 김준호입니다. TL 세션에서 다룬 Fine-tuning과 Domain Adaptation을 직접 구현해 봅시다."
      ]
    },
    {
      "cell_type": "markdown",
      "metadata": {
        "id": "qWlAlAeRtm4s"
      },
      "source": [
        "Office-31은 여러 실습에서 자주 등장하는 이미지 데이터셋입니다. Amazon, Webcam, DSLR 세 개의 도메인으로 구성되어 있는데요.\n",
        "\n",
        "총 31개 클래스 (키보드, 마우스, 모니터 등)의 사무용품 이미지가 있고,각 도메인마다 같은 클래스가 포함되어 있지만 도메인마다 이미지 특성은 다릅니다.\n",
        "\n",
        "그래서 이런 transfer learning 실습에 적합하다고 볼 수 있습니다."
      ]
    },
    {
      "cell_type": "code",
      "execution_count": 1,
      "metadata": {
        "id": "6R098oQTS_TC"
      },
      "outputs": [],
      "source": [
        "import os\n",
        "import torch\n",
        "import torchvision\n",
        "from torchvision import transforms, datasets\n",
        "import torch.nn as nn\n",
        "import time\n",
        "from torchvision import models\n",
        "torch.cuda.set_device(0)"
      ]
    },
    {
      "cell_type": "markdown",
      "metadata": {
        "id": "K9Ut17hwUDq-"
      },
      "source": [
        "amazon을 source로, webcam을 target data로 이용해 봅시다."
      ]
    },
    {
      "cell_type": "code",
      "source": [
        "from google.colab import drive\n",
        "drive.mount('/content/drive')"
      ],
      "metadata": {
        "colab": {
          "base_uri": "https://localhost:8080/"
        },
        "id": "0xjQsgYZECmY",
        "outputId": "30bcb747-a193-40b7-f52d-c51fed8f45e3"
      },
      "execution_count": 2,
      "outputs": [
        {
          "output_type": "stream",
          "name": "stdout",
          "text": [
            "Mounted at /content/drive\n"
          ]
        }
      ]
    },
    {
      "cell_type": "code",
      "source": [
        "import os\n",
        "\n",
        "path = \"/content/drive/MyDrive/Yonsei/YBIGTA/week5/OFFICE31/amazon/back_pack\"\n",
        "files = os.listdir(path)\n",
        "print(files)"
      ],
      "metadata": {
        "colab": {
          "base_uri": "https://localhost:8080/"
        },
        "id": "d9zRzEsYb_1v",
        "outputId": "91efc5ff-83c6-44ca-a98b-cb75ef3a0210"
      },
      "execution_count": 4,
      "outputs": [
        {
          "output_type": "stream",
          "name": "stdout",
          "text": [
            "['frame_0001.jpg', 'frame_0022.jpg', 'frame_0010.jpg', 'frame_0006.jpg', 'frame_0002.jpg', 'frame_0007.jpg', 'frame_0020.jpg', 'frame_0021.jpg', 'frame_0013.jpg', 'frame_0004.jpg', 'frame_0012.jpg', 'frame_0019.jpg', 'frame_0017.jpg', 'frame_0009.jpg', 'frame_0016.jpg', 'frame_0023.jpg', 'frame_0008.jpg', 'frame_0024.jpg', 'frame_0005.jpg', 'frame_0015.jpg', 'frame_0003.jpg', 'frame_0014.jpg', 'frame_0018.jpg', 'frame_0011.jpg', 'frame_0055.jpg', 'frame_0029.jpg', 'frame_0070.jpg', 'frame_0085.jpg', 'frame_0059.jpg', 'frame_0026.jpg', 'frame_0042.jpg', 'frame_0050.jpg', 'frame_0072.jpg', 'frame_0039.jpg', 'frame_0044.jpg', 'frame_0068.jpg', 'frame_0080.jpg', 'frame_0048.jpg', 'frame_0082.jpg', 'frame_0061.jpg', 'frame_0032.jpg', 'frame_0053.jpg', 'frame_0075.jpg', 'frame_0054.jpg', 'frame_0036.jpg', 'frame_0035.jpg', 'frame_0074.jpg', 'frame_0056.jpg', 'frame_0045.jpg', 'frame_0041.jpg', 'frame_0065.jpg', 'frame_0063.jpg', 'frame_0077.jpg', 'frame_0034.jpg', 'frame_0073.jpg', 'frame_0038.jpg', 'frame_0081.jpg', 'frame_0057.jpg', 'frame_0084.jpg', 'frame_0078.jpg', 'frame_0047.jpg', 'frame_0025.jpg', 'frame_0028.jpg', 'frame_0076.jpg', 'frame_0066.jpg', 'frame_0069.jpg', 'frame_0060.jpg', 'frame_0031.jpg', 'frame_0064.jpg', 'frame_0027.jpg', 'frame_0052.jpg', 'frame_0067.jpg', 'frame_0058.jpg', 'frame_0049.jpg', 'frame_0043.jpg', 'frame_0033.jpg', 'frame_0030.jpg', 'frame_0051.jpg', 'frame_0046.jpg', 'frame_0062.jpg', 'frame_0040.jpg', 'frame_0083.jpg', 'frame_0037.jpg', 'frame_0079.jpg', 'frame_0071.jpg', 'frame_0092.jpg', 'frame_0090.jpg', 'frame_0087.jpg', 'frame_0089.jpg', 'frame_0091.jpg', 'frame_0088.jpg', 'frame_0086.jpg']\n"
          ]
        }
      ]
    },
    {
      "cell_type": "code",
      "execution_count": 5,
      "metadata": {
        "id": "j4e--IIRU68M"
      },
      "outputs": [],
      "source": [
        "data_folder = '/content/drive/MyDrive/Yonsei/YBIGTA/week5/OFFICE31'\n",
        "batch_size = 32\n",
        "n_class = 31\n",
        "domain_src, domain_tar = 'amazon', 'webcam'"
      ]
    },
    {
      "cell_type": "markdown",
      "metadata": {
        "id": "XA6e2YaPtm4u"
      },
      "source": [
        "source와 target domain에 대한 DataLoader를 생성하고 load해 줍시다."
      ]
    },
    {
      "cell_type": "code",
      "execution_count": 6,
      "metadata": {
        "id": "6JtN_bK9VFcM"
      },
      "outputs": [],
      "source": [
        "def load_data(root_path, domain, batch_size, phase):\n",
        "    transform_dict = {\n",
        "        'src': transforms.Compose(\n",
        "        [transforms.RandomResizedCrop(224),\n",
        "         transforms.RandomHorizontalFlip(),\n",
        "         transforms.ToTensor(),\n",
        "         transforms.Normalize(mean=[0.485, 0.456, 0.406],\n",
        "                              std=[0.229, 0.224, 0.225]),\n",
        "         ]),\n",
        "        'tar': transforms.Compose(\n",
        "        [transforms.Resize(224),\n",
        "         transforms.ToTensor(),\n",
        "         transforms.Normalize(mean=[0.485, 0.456, 0.406],\n",
        "                              std=[0.229, 0.224, 0.225]),\n",
        "         ])}\n",
        "    data = datasets.ImageFolder(root=os.path.join(root_path, domain), transform=transform_dict[phase])\n",
        "    data_loader = torch.utils.data.DataLoader(data, batch_size=batch_size, shuffle=phase=='src', drop_last=phase=='tar', num_workers=4)\n",
        "    return data_loader"
      ]
    },
    {
      "cell_type": "code",
      "execution_count": 7,
      "metadata": {
        "id": "Jf_Gw2HRVJM_",
        "colab": {
          "base_uri": "https://localhost:8080/"
        },
        "outputId": "d429dc44-f650-442e-d5c4-da67c6064a0a"
      },
      "outputs": [
        {
          "output_type": "stream",
          "name": "stdout",
          "text": [
            "Source data number: 2817\n",
            "Target data number: 795\n"
          ]
        }
      ],
      "source": [
        "src_loader = load_data(data_folder, domain_src, batch_size, phase='src')\n",
        "tar_loader = load_data(data_folder, domain_tar, batch_size, phase='tar')\n",
        "print(f'Source data number: {len(src_loader.dataset)}')\n",
        "print(f'Target data number: {len(tar_loader.dataset)}')"
      ]
    },
    {
      "cell_type": "markdown",
      "metadata": {
        "id": "caKMn438tm4v"
      },
      "source": [
        "# Fine-tuning"
      ]
    },
    {
      "cell_type": "markdown",
      "metadata": {
        "id": "zMyZM9tCD6Ph"
      },
      "source": [
        "Pre-trained ResNet50을 기반으로 한 간단한 TransferModel을 정의합니다. 여기서 모델 구조는 유지하되 마지막 fc layer만 새롭게 학습되도록 구성합니다."
      ]
    },
    {
      "cell_type": "code",
      "execution_count": 9,
      "metadata": {
        "id": "OXAjmY7pVK8t"
      },
      "outputs": [],
      "source": [
        "class TransferModel(nn.Module):\n",
        "    def __init__(self,\n",
        "                base_model : str = 'resnet50',\n",
        "                pretrain : bool = True,\n",
        "                n_class : int = 31):\n",
        "        super(TransferModel, self).__init__()\n",
        "        self.base_model = base_model\n",
        "        self.pretrain = pretrain\n",
        "        self.n_class = n_class\n",
        "        if self.base_model == 'resnet50':\n",
        "            self.model = models.resnet50(pretrained=self.pretrain)\n",
        "            n_features = self.model.fc.in_features\n",
        "            fc = nn.Linear(n_features, self.n_class)\n",
        "            self.model.fc = fc\n",
        "        else:\n",
        "            # Use other models you like, such as vgg or alexnet\n",
        "            pass\n",
        "        self.model.fc.weight.data.normal_(0, 0.005)\n",
        "        self.model.fc.bias.data.fill_(0.1)\n",
        "\n",
        "    def forward(self, x):\n",
        "        return self.model(x)\n",
        "\n",
        "    def predict(self, x):\n",
        "        return self.forward(x)"
      ]
    },
    {
      "cell_type": "markdown",
      "metadata": {
        "id": "UAqT-0jRtm4w"
      },
      "source": [
        "모델이 정상적으로 작동하는지 random tensor로 테스트해 봅시다."
      ]
    },
    {
      "cell_type": "code",
      "execution_count": 10,
      "metadata": {
        "id": "LewRmYIvXEIo",
        "colab": {
          "base_uri": "https://localhost:8080/"
        },
        "outputId": "1527349f-d96c-42a8-8803-16535bc4bf28"
      },
      "outputs": [
        {
          "output_type": "stream",
          "name": "stderr",
          "text": [
            "/usr/local/lib/python3.11/dist-packages/torchvision/models/_utils.py:208: UserWarning: The parameter 'pretrained' is deprecated since 0.13 and may be removed in the future, please use 'weights' instead.\n",
            "  warnings.warn(\n",
            "/usr/local/lib/python3.11/dist-packages/torchvision/models/_utils.py:223: UserWarning: Arguments other than a weight enum or `None` for 'weights' are deprecated since 0.13 and may be removed in the future. The current behavior is equivalent to passing `weights=ResNet50_Weights.IMAGENET1K_V1`. You can also use `weights=ResNet50_Weights.DEFAULT` to get the most up-to-date weights.\n",
            "  warnings.warn(msg)\n",
            "Downloading: \"https://download.pytorch.org/models/resnet50-0676ba61.pth\" to /root/.cache/torch/hub/checkpoints/resnet50-0676ba61.pth\n",
            "100%|██████████| 97.8M/97.8M [00:00<00:00, 201MB/s]\n"
          ]
        },
        {
          "output_type": "stream",
          "name": "stdout",
          "text": [
            "tensor([[ 0.1045, -0.0028, -0.1084,  0.0657,  0.4147,  0.1288,  0.0148,  0.2530,\n",
            "          0.2056,  0.1731,  0.1734, -0.0106,  0.1394,  0.2121,  0.0774,  0.1560,\n",
            "          0.0611,  0.1450,  0.1469,  0.1371,  0.0689,  0.0531, -0.0276,  0.0808,\n",
            "          0.0832, -0.0504,  0.1094,  0.2980,  0.0201,  0.2973,  0.1634]],\n",
            "       device='cuda:0', grad_fn=<AddmmBackward0>)\n",
            "torch.Size([1, 31])\n"
          ]
        }
      ],
      "source": [
        "model = TransferModel().cuda()\n",
        "RAND_TENSOR = torch.randn(1, 3, 224, 224).cuda()\n",
        "output = model(RAND_TENSOR)\n",
        "print(output)\n",
        "print(output.shape)"
      ]
    },
    {
      "cell_type": "markdown",
      "metadata": {
        "id": "UpX-fuiXtm4w"
      },
      "source": [
        "## Finetune ResNet-50"
      ]
    },
    {
      "cell_type": "markdown",
      "metadata": {
        "id": "0uNeAiPatm4w"
      },
      "source": [
        "Office-31 dataset은 validation set이 따로 없으므로, validation set으로 target domain을 이용해 줍시다.\n",
        "\n",
        "fine-tuning을 위한 학습 및 평가 함수를 정의합니다.\n",
        "학습은 source domain에서 수행하고 target domain에서 검증합니다."
      ]
    },
    {
      "cell_type": "code",
      "execution_count": 16,
      "metadata": {
        "id": "h74gKIVqtm4w"
      },
      "outputs": [],
      "source": [
        "dataloaders = {'src': src_loader,\n",
        "               'val': tar_loader,\n",
        "               'tar': tar_loader}\n",
        "n_epoch = 100\n",
        "criterion = nn.CrossEntropyLoss()\n",
        "early_stop = 20"
      ]
    },
    {
      "cell_type": "code",
      "execution_count": 17,
      "metadata": {
        "id": "-fz_FlAIXsTF"
      },
      "outputs": [],
      "source": [
        "def finetune(model, dataloaders, optimizer):\n",
        "    since = time.time()\n",
        "    best_acc = 0\n",
        "    stop = 0\n",
        "    for epoch in range(0, n_epoch):\n",
        "        stop += 1\n",
        "        # You can uncomment this line for scheduling learning rate\n",
        "        # lr_schedule(optimizer, epoch)\n",
        "        for phase in ['src', 'val', 'tar']:\n",
        "            if phase == 'src':\n",
        "                model.train()\n",
        "            else:\n",
        "                model.eval()\n",
        "            total_loss, correct = 0, 0\n",
        "            for inputs, labels in dataloaders[phase]:\n",
        "                inputs, labels = inputs.cuda(), labels.cuda()\n",
        "                optimizer.zero_grad()\n",
        "                with torch.set_grad_enabled(phase == 'src'):\n",
        "                    outputs = model(inputs)\n",
        "                    loss = criterion(outputs, labels)\n",
        "                preds = torch.max(outputs, 1)[1]\n",
        "                if phase == 'src':\n",
        "                    loss.backward()\n",
        "                    optimizer.step()\n",
        "                total_loss += loss.item() * inputs.size(0)\n",
        "                correct += torch.sum(preds == labels.data)\n",
        "            epoch_loss = total_loss / len(dataloaders[phase].dataset)\n",
        "            epoch_acc = correct.double() / len(dataloaders[phase].dataset)\n",
        "            print(f'Epoch: [{epoch:02d}/{n_epoch:02d}]---{phase}, loss: {epoch_loss:.6f}, acc: {epoch_acc:.4f}')\n",
        "            if phase == 'val' and epoch_acc > best_acc:\n",
        "                stop = 0\n",
        "                best_acc = epoch_acc\n",
        "                torch.save(model.state_dict(), 'model.pkl')\n",
        "        if stop >= early_stop:\n",
        "            break\n",
        "        print()\n",
        "\n",
        "    time_pass = time.time() - since\n",
        "    print(f'Training complete in {time_pass // 60:.0f}m {time_pass % 60:.0f}s')"
      ]
    },
    {
      "cell_type": "markdown",
      "metadata": {
        "id": "rGUZGrm7tm4x"
      },
      "source": [
        "이제 학습 파라미터들과 optimizer를 정의합니다.\n",
        "간단하게 SGD optimizer를 사용하고 fc layer의 학습률을 다른 layer보다 10배 크게 설정합니다."
      ]
    },
    {
      "cell_type": "code",
      "execution_count": 18,
      "metadata": {
        "id": "HGVIu0JXZaGT"
      },
      "outputs": [],
      "source": [
        "param_group = []\n",
        "learning_rate = 0.0001\n",
        "momentum = 5e-4\n",
        "for k, v in model.named_parameters():\n",
        "    if not k.__contains__('fc'):\n",
        "        param_group += [{'params': v, 'lr': learning_rate}]\n",
        "    else:\n",
        "        param_group += [{'params': v, 'lr': learning_rate * 10}]\n",
        "optimizer = torch.optim.SGD(param_group, momentum=momentum)"
      ]
    },
    {
      "cell_type": "markdown",
      "metadata": {
        "id": "F7zGR_PFtm4y"
      },
      "source": [
        "## Train and test"
      ]
    },
    {
      "cell_type": "code",
      "execution_count": 19,
      "metadata": {
        "id": "uKKrah-AZsHt",
        "colab": {
          "base_uri": "https://localhost:8080/"
        },
        "outputId": "e6a5aaf9-3391-485c-f484-f1c2b67ba5fc"
      },
      "outputs": [
        {
          "output_type": "stream",
          "name": "stdout",
          "text": [
            "Epoch: [00/100]---src, loss: 2.979987, acc: 0.5669\n",
            "Epoch: [00/100]---val, loss: 2.841065, acc: 0.2818\n",
            "Epoch: [00/100]---tar, loss: 2.841065, acc: 0.2818\n",
            "\n",
            "Epoch: [01/100]---src, loss: 2.859181, acc: 0.5634\n",
            "Epoch: [01/100]---val, loss: 2.735416, acc: 0.3836\n",
            "Epoch: [01/100]---tar, loss: 2.735416, acc: 0.3836\n",
            "\n",
            "Epoch: [02/100]---src, loss: 2.740799, acc: 0.5921\n",
            "Epoch: [02/100]---val, loss: 2.630179, acc: 0.5459\n",
            "Epoch: [02/100]---tar, loss: 2.630179, acc: 0.5459\n",
            "\n",
            "Epoch: [03/100]---src, loss: 2.628337, acc: 0.6244\n",
            "Epoch: [03/100]---val, loss: 2.501753, acc: 0.5849\n",
            "Epoch: [03/100]---tar, loss: 2.501753, acc: 0.5849\n",
            "\n",
            "Epoch: [04/100]---src, loss: 2.520267, acc: 0.6312\n",
            "Epoch: [04/100]---val, loss: 2.405024, acc: 0.6050\n",
            "Epoch: [04/100]---tar, loss: 2.405024, acc: 0.6050\n",
            "\n",
            "Epoch: [05/100]---src, loss: 2.399975, acc: 0.6464\n",
            "Epoch: [05/100]---val, loss: 2.301330, acc: 0.6151\n",
            "Epoch: [05/100]---tar, loss: 2.301330, acc: 0.6151\n",
            "\n",
            "Epoch: [06/100]---src, loss: 2.296620, acc: 0.6645\n",
            "Epoch: [06/100]---val, loss: 2.219323, acc: 0.6377\n",
            "Epoch: [06/100]---tar, loss: 2.219323, acc: 0.6377\n",
            "\n",
            "Epoch: [07/100]---src, loss: 2.198003, acc: 0.6684\n",
            "Epoch: [07/100]---val, loss: 2.116727, acc: 0.6327\n",
            "Epoch: [07/100]---tar, loss: 2.116727, acc: 0.6327\n",
            "\n",
            "Epoch: [08/100]---src, loss: 2.107055, acc: 0.6780\n",
            "Epoch: [08/100]---val, loss: 2.047316, acc: 0.6767\n",
            "Epoch: [08/100]---tar, loss: 2.047316, acc: 0.6767\n",
            "\n",
            "Epoch: [09/100]---src, loss: 2.031403, acc: 0.6830\n",
            "Epoch: [09/100]---val, loss: 1.947356, acc: 0.6629\n",
            "Epoch: [09/100]---tar, loss: 1.947356, acc: 0.6629\n",
            "\n",
            "Epoch: [10/100]---src, loss: 1.925549, acc: 0.7054\n",
            "Epoch: [10/100]---val, loss: 1.898913, acc: 0.6704\n",
            "Epoch: [10/100]---tar, loss: 1.898913, acc: 0.6704\n",
            "\n",
            "Epoch: [11/100]---src, loss: 1.864158, acc: 0.7000\n",
            "Epoch: [11/100]---val, loss: 1.807463, acc: 0.6579\n",
            "Epoch: [11/100]---tar, loss: 1.807463, acc: 0.6579\n",
            "\n",
            "Epoch: [12/100]---src, loss: 1.797150, acc: 0.7000\n",
            "Epoch: [12/100]---val, loss: 1.745780, acc: 0.6881\n",
            "Epoch: [12/100]---tar, loss: 1.745780, acc: 0.6881\n",
            "\n",
            "Epoch: [13/100]---src, loss: 1.731936, acc: 0.7050\n",
            "Epoch: [13/100]---val, loss: 1.728915, acc: 0.6792\n",
            "Epoch: [13/100]---tar, loss: 1.728915, acc: 0.6792\n",
            "\n",
            "Epoch: [14/100]---src, loss: 1.671545, acc: 0.7164\n",
            "Epoch: [14/100]---val, loss: 1.657707, acc: 0.6692\n",
            "Epoch: [14/100]---tar, loss: 1.657707, acc: 0.6692\n",
            "\n",
            "Epoch: [15/100]---src, loss: 1.602091, acc: 0.7192\n",
            "Epoch: [15/100]---val, loss: 1.615329, acc: 0.6667\n",
            "Epoch: [15/100]---tar, loss: 1.615329, acc: 0.6667\n",
            "\n",
            "Epoch: [16/100]---src, loss: 1.575421, acc: 0.7206\n",
            "Epoch: [16/100]---val, loss: 1.573100, acc: 0.6730\n",
            "Epoch: [16/100]---tar, loss: 1.573100, acc: 0.6730\n",
            "\n",
            "Epoch: [17/100]---src, loss: 1.517723, acc: 0.7291\n",
            "Epoch: [17/100]---val, loss: 1.525376, acc: 0.6956\n",
            "Epoch: [17/100]---tar, loss: 1.525376, acc: 0.6956\n",
            "\n",
            "Epoch: [18/100]---src, loss: 1.472323, acc: 0.7323\n",
            "Epoch: [18/100]---val, loss: 1.492618, acc: 0.6830\n",
            "Epoch: [18/100]---tar, loss: 1.492618, acc: 0.6830\n",
            "\n",
            "Epoch: [19/100]---src, loss: 1.448927, acc: 0.7263\n",
            "Epoch: [19/100]---val, loss: 1.435727, acc: 0.6943\n",
            "Epoch: [19/100]---tar, loss: 1.435727, acc: 0.6943\n",
            "\n",
            "Epoch: [20/100]---src, loss: 1.388944, acc: 0.7409\n",
            "Epoch: [20/100]---val, loss: 1.390245, acc: 0.7031\n",
            "Epoch: [20/100]---tar, loss: 1.390245, acc: 0.7031\n",
            "\n",
            "Epoch: [21/100]---src, loss: 1.386454, acc: 0.7309\n",
            "Epoch: [21/100]---val, loss: 1.399681, acc: 0.6868\n",
            "Epoch: [21/100]---tar, loss: 1.399681, acc: 0.6868\n",
            "\n",
            "Epoch: [22/100]---src, loss: 1.338544, acc: 0.7345\n",
            "Epoch: [22/100]---val, loss: 1.331302, acc: 0.6981\n",
            "Epoch: [22/100]---tar, loss: 1.331302, acc: 0.6981\n",
            "\n",
            "Epoch: [23/100]---src, loss: 1.301715, acc: 0.7433\n",
            "Epoch: [23/100]---val, loss: 1.326982, acc: 0.6981\n",
            "Epoch: [23/100]---tar, loss: 1.326982, acc: 0.6981\n",
            "\n",
            "Epoch: [24/100]---src, loss: 1.298536, acc: 0.7387\n",
            "Epoch: [24/100]---val, loss: 1.262167, acc: 0.7170\n",
            "Epoch: [24/100]---tar, loss: 1.262167, acc: 0.7170\n",
            "\n",
            "Epoch: [25/100]---src, loss: 1.253144, acc: 0.7441\n",
            "Epoch: [25/100]---val, loss: 1.291628, acc: 0.7006\n",
            "Epoch: [25/100]---tar, loss: 1.291628, acc: 0.7006\n",
            "\n",
            "Epoch: [26/100]---src, loss: 1.228546, acc: 0.7497\n",
            "Epoch: [26/100]---val, loss: 1.237898, acc: 0.7082\n",
            "Epoch: [26/100]---tar, loss: 1.237898, acc: 0.7082\n",
            "\n",
            "Epoch: [27/100]---src, loss: 1.218083, acc: 0.7451\n",
            "Epoch: [27/100]---val, loss: 1.221353, acc: 0.7107\n",
            "Epoch: [27/100]---tar, loss: 1.221353, acc: 0.7107\n",
            "\n",
            "Epoch: [28/100]---src, loss: 1.175506, acc: 0.7519\n",
            "Epoch: [28/100]---val, loss: 1.195134, acc: 0.6918\n",
            "Epoch: [28/100]---tar, loss: 1.195134, acc: 0.6918\n",
            "\n",
            "Epoch: [29/100]---src, loss: 1.166791, acc: 0.7558\n",
            "Epoch: [29/100]---val, loss: 1.217545, acc: 0.7082\n",
            "Epoch: [29/100]---tar, loss: 1.217545, acc: 0.7082\n",
            "\n",
            "Epoch: [30/100]---src, loss: 1.163446, acc: 0.7451\n",
            "Epoch: [30/100]---val, loss: 1.172889, acc: 0.7057\n",
            "Epoch: [30/100]---tar, loss: 1.172889, acc: 0.7057\n",
            "\n",
            "Epoch: [31/100]---src, loss: 1.122553, acc: 0.7590\n",
            "Epoch: [31/100]---val, loss: 1.165117, acc: 0.7031\n",
            "Epoch: [31/100]---tar, loss: 1.165117, acc: 0.7031\n",
            "\n",
            "Epoch: [32/100]---src, loss: 1.109651, acc: 0.7515\n",
            "Epoch: [32/100]---val, loss: 1.132446, acc: 0.7094\n",
            "Epoch: [32/100]---tar, loss: 1.132446, acc: 0.7094\n",
            "\n",
            "Epoch: [33/100]---src, loss: 1.078900, acc: 0.7678\n",
            "Epoch: [33/100]---val, loss: 1.108143, acc: 0.7107\n",
            "Epoch: [33/100]---tar, loss: 1.108143, acc: 0.7107\n",
            "\n",
            "Epoch: [34/100]---src, loss: 1.092812, acc: 0.7600\n",
            "Epoch: [34/100]---val, loss: 1.104961, acc: 0.7157\n",
            "Epoch: [34/100]---tar, loss: 1.104961, acc: 0.7157\n",
            "\n",
            "Epoch: [35/100]---src, loss: 1.048290, acc: 0.7689\n",
            "Epoch: [35/100]---val, loss: 1.088446, acc: 0.7283\n",
            "Epoch: [35/100]---tar, loss: 1.088446, acc: 0.7283\n",
            "\n",
            "Epoch: [36/100]---src, loss: 1.058909, acc: 0.7629\n",
            "Epoch: [36/100]---val, loss: 1.104037, acc: 0.7057\n",
            "Epoch: [36/100]---tar, loss: 1.104037, acc: 0.7057\n",
            "\n",
            "Epoch: [37/100]---src, loss: 1.059297, acc: 0.7614\n",
            "Epoch: [37/100]---val, loss: 1.072455, acc: 0.7182\n",
            "Epoch: [37/100]---tar, loss: 1.072455, acc: 0.7182\n",
            "\n",
            "Epoch: [38/100]---src, loss: 1.030238, acc: 0.7682\n",
            "Epoch: [38/100]---val, loss: 1.068004, acc: 0.7145\n",
            "Epoch: [38/100]---tar, loss: 1.068004, acc: 0.7145\n",
            "\n",
            "Epoch: [39/100]---src, loss: 1.028852, acc: 0.7700\n",
            "Epoch: [39/100]---val, loss: 1.078453, acc: 0.7170\n",
            "Epoch: [39/100]---tar, loss: 1.078453, acc: 0.7170\n",
            "\n",
            "Epoch: [40/100]---src, loss: 0.992319, acc: 0.7753\n",
            "Epoch: [40/100]---val, loss: 1.042634, acc: 0.7094\n",
            "Epoch: [40/100]---tar, loss: 1.042634, acc: 0.7094\n",
            "\n",
            "Epoch: [41/100]---src, loss: 0.994281, acc: 0.7771\n",
            "Epoch: [41/100]---val, loss: 1.017958, acc: 0.7434\n",
            "Epoch: [41/100]---tar, loss: 1.017958, acc: 0.7434\n",
            "\n",
            "Epoch: [42/100]---src, loss: 0.983550, acc: 0.7799\n",
            "Epoch: [42/100]---val, loss: 1.053557, acc: 0.7031\n",
            "Epoch: [42/100]---tar, loss: 1.053557, acc: 0.7031\n",
            "\n",
            "Epoch: [43/100]---src, loss: 0.972296, acc: 0.7739\n",
            "Epoch: [43/100]---val, loss: 1.007085, acc: 0.7321\n",
            "Epoch: [43/100]---tar, loss: 1.007085, acc: 0.7321\n",
            "\n",
            "Epoch: [44/100]---src, loss: 0.952480, acc: 0.7785\n",
            "Epoch: [44/100]---val, loss: 1.013015, acc: 0.7245\n",
            "Epoch: [44/100]---tar, loss: 1.013015, acc: 0.7245\n",
            "\n",
            "Epoch: [45/100]---src, loss: 0.931474, acc: 0.7891\n",
            "Epoch: [45/100]---val, loss: 1.003945, acc: 0.7296\n",
            "Epoch: [45/100]---tar, loss: 1.003945, acc: 0.7296\n",
            "\n",
            "Epoch: [46/100]---src, loss: 0.940601, acc: 0.7792\n",
            "Epoch: [46/100]---val, loss: 0.957814, acc: 0.7346\n",
            "Epoch: [46/100]---tar, loss: 0.957814, acc: 0.7346\n",
            "\n",
            "Epoch: [47/100]---src, loss: 0.944596, acc: 0.7827\n",
            "Epoch: [47/100]---val, loss: 0.995778, acc: 0.7220\n",
            "Epoch: [47/100]---tar, loss: 0.995778, acc: 0.7220\n",
            "\n",
            "Epoch: [48/100]---src, loss: 0.905801, acc: 0.7895\n",
            "Epoch: [48/100]---val, loss: 0.999583, acc: 0.7132\n",
            "Epoch: [48/100]---tar, loss: 0.999583, acc: 0.7132\n",
            "\n",
            "Epoch: [49/100]---src, loss: 0.890314, acc: 0.7948\n",
            "Epoch: [49/100]---val, loss: 0.991126, acc: 0.7157\n",
            "Epoch: [49/100]---tar, loss: 0.991126, acc: 0.7157\n",
            "\n",
            "Epoch: [50/100]---src, loss: 0.929247, acc: 0.7735\n",
            "Epoch: [50/100]---val, loss: 0.932539, acc: 0.7346\n",
            "Epoch: [50/100]---tar, loss: 0.932539, acc: 0.7346\n",
            "\n",
            "Epoch: [51/100]---src, loss: 0.900326, acc: 0.7774\n",
            "Epoch: [51/100]---val, loss: 0.958394, acc: 0.7283\n",
            "Epoch: [51/100]---tar, loss: 0.958394, acc: 0.7283\n",
            "\n",
            "Epoch: [52/100]---src, loss: 0.873818, acc: 0.7948\n",
            "Epoch: [52/100]---val, loss: 0.980682, acc: 0.7233\n",
            "Epoch: [52/100]---tar, loss: 0.980682, acc: 0.7233\n",
            "\n",
            "Epoch: [53/100]---src, loss: 0.889801, acc: 0.7835\n",
            "Epoch: [53/100]---val, loss: 0.939346, acc: 0.7371\n",
            "Epoch: [53/100]---tar, loss: 0.939346, acc: 0.7371\n",
            "\n",
            "Epoch: [54/100]---src, loss: 0.888550, acc: 0.7870\n",
            "Epoch: [54/100]---val, loss: 0.923819, acc: 0.7346\n",
            "Epoch: [54/100]---tar, loss: 0.923819, acc: 0.7346\n",
            "\n",
            "Epoch: [55/100]---src, loss: 0.870799, acc: 0.7877\n",
            "Epoch: [55/100]---val, loss: 0.937130, acc: 0.7182\n",
            "Epoch: [55/100]---tar, loss: 0.937130, acc: 0.7182\n",
            "\n",
            "Epoch: [56/100]---src, loss: 0.864107, acc: 0.7874\n",
            "Epoch: [56/100]---val, loss: 0.919766, acc: 0.7447\n",
            "Epoch: [56/100]---tar, loss: 0.919766, acc: 0.7447\n",
            "\n",
            "Epoch: [57/100]---src, loss: 0.858075, acc: 0.7916\n",
            "Epoch: [57/100]---val, loss: 0.910972, acc: 0.7409\n",
            "Epoch: [57/100]---tar, loss: 0.910972, acc: 0.7409\n",
            "\n",
            "Epoch: [58/100]---src, loss: 0.840929, acc: 0.7955\n",
            "Epoch: [58/100]---val, loss: 0.926721, acc: 0.7283\n",
            "Epoch: [58/100]---tar, loss: 0.926721, acc: 0.7283\n",
            "\n",
            "Epoch: [59/100]---src, loss: 0.821281, acc: 0.7977\n",
            "Epoch: [59/100]---val, loss: 0.917266, acc: 0.7258\n",
            "Epoch: [59/100]---tar, loss: 0.917266, acc: 0.7258\n",
            "\n",
            "Epoch: [60/100]---src, loss: 0.833751, acc: 0.7955\n",
            "Epoch: [60/100]---val, loss: 0.912499, acc: 0.7358\n",
            "Epoch: [60/100]---tar, loss: 0.912499, acc: 0.7358\n",
            "\n",
            "Epoch: [61/100]---src, loss: 0.840272, acc: 0.7959\n",
            "Epoch: [61/100]---val, loss: 0.905952, acc: 0.7258\n",
            "Epoch: [61/100]---tar, loss: 0.905952, acc: 0.7258\n",
            "\n",
            "Epoch: [62/100]---src, loss: 0.825371, acc: 0.7980\n",
            "Epoch: [62/100]---val, loss: 0.935654, acc: 0.7119\n",
            "Epoch: [62/100]---tar, loss: 0.935654, acc: 0.7119\n",
            "\n",
            "Epoch: [63/100]---src, loss: 0.822710, acc: 0.8040\n",
            "Epoch: [63/100]---val, loss: 0.905368, acc: 0.7182\n",
            "Epoch: [63/100]---tar, loss: 0.905368, acc: 0.7182\n",
            "\n",
            "Epoch: [64/100]---src, loss: 0.839026, acc: 0.7909\n",
            "Epoch: [64/100]---val, loss: 0.895781, acc: 0.7283\n",
            "Epoch: [64/100]---tar, loss: 0.895781, acc: 0.7283\n",
            "\n",
            "Epoch: [65/100]---src, loss: 0.813860, acc: 0.7984\n",
            "Epoch: [65/100]---val, loss: 0.873727, acc: 0.7358\n",
            "Epoch: [65/100]---tar, loss: 0.873727, acc: 0.7358\n",
            "\n",
            "Epoch: [66/100]---src, loss: 0.822876, acc: 0.8019\n",
            "Epoch: [66/100]---val, loss: 0.880257, acc: 0.7283\n",
            "Epoch: [66/100]---tar, loss: 0.880257, acc: 0.7283\n",
            "\n",
            "Epoch: [67/100]---src, loss: 0.811610, acc: 0.8012\n",
            "Epoch: [67/100]---val, loss: 0.881683, acc: 0.7182\n",
            "Epoch: [67/100]---tar, loss: 0.881683, acc: 0.7182\n",
            "\n",
            "Epoch: [68/100]---src, loss: 0.798604, acc: 0.8016\n",
            "Epoch: [68/100]---val, loss: 0.899999, acc: 0.7195\n",
            "Epoch: [68/100]---tar, loss: 0.899999, acc: 0.7195\n",
            "\n",
            "Epoch: [69/100]---src, loss: 0.795468, acc: 0.8026\n",
            "Epoch: [69/100]---val, loss: 0.866345, acc: 0.7384\n",
            "Epoch: [69/100]---tar, loss: 0.866345, acc: 0.7384\n",
            "\n",
            "Epoch: [70/100]---src, loss: 0.763040, acc: 0.8062\n",
            "Epoch: [70/100]---val, loss: 0.872056, acc: 0.7283\n",
            "Epoch: [70/100]---tar, loss: 0.872056, acc: 0.7283\n",
            "\n",
            "Epoch: [71/100]---src, loss: 0.764226, acc: 0.8126\n",
            "Epoch: [71/100]---val, loss: 0.893609, acc: 0.7182\n",
            "Epoch: [71/100]---tar, loss: 0.893609, acc: 0.7182\n",
            "\n",
            "Epoch: [72/100]---src, loss: 0.767873, acc: 0.8069\n",
            "Epoch: [72/100]---val, loss: 0.874442, acc: 0.7258\n",
            "Epoch: [72/100]---tar, loss: 0.874442, acc: 0.7258\n",
            "\n",
            "Epoch: [73/100]---src, loss: 0.772079, acc: 0.8111\n",
            "Epoch: [73/100]---val, loss: 0.860012, acc: 0.7384\n",
            "Epoch: [73/100]---tar, loss: 0.860012, acc: 0.7384\n",
            "\n",
            "Epoch: [74/100]---src, loss: 0.793366, acc: 0.8044\n",
            "Epoch: [74/100]---val, loss: 0.859198, acc: 0.7195\n",
            "Epoch: [74/100]---tar, loss: 0.859198, acc: 0.7195\n",
            "\n",
            "Epoch: [75/100]---src, loss: 0.750450, acc: 0.8111\n",
            "Epoch: [75/100]---val, loss: 0.888132, acc: 0.7182\n",
            "Epoch: [75/100]---tar, loss: 0.888132, acc: 0.7182\n",
            "\n",
            "Epoch: [76/100]---src, loss: 0.750373, acc: 0.8172\n",
            "Epoch: [76/100]---val, loss: 0.880356, acc: 0.7119\n",
            "Epoch: [76/100]---tar, loss: 0.880356, acc: 0.7119\n",
            "Training complete in 47m 35s\n"
          ]
        }
      ],
      "source": [
        "# TODO: fine-tuning function 호출하여 학습 진행\n",
        "finetune(model, dataloaders, optimizer)"
      ]
    },
    {
      "cell_type": "code",
      "execution_count": 21,
      "metadata": {
        "id": "GR5Y1x4btm4y"
      },
      "outputs": [],
      "source": [
        "def test(model, target_test_loader):\n",
        "    model.eval()\n",
        "    correct = 0\n",
        "    len_target_dataset = len(target_test_loader.dataset)\n",
        "    with torch.no_grad():\n",
        "        for data, target in target_test_loader:\n",
        "            data, target = data.cuda(), target.cuda()\n",
        "            s_output = model.predict(data)\n",
        "            pred = torch.max(s_output, 1)[1]\n",
        "            correct += torch.sum(pred == target)\n",
        "    acc = correct.double() / len(target_test_loader.dataset)\n",
        "    return acc"
      ]
    },
    {
      "cell_type": "code",
      "execution_count": 22,
      "metadata": {
        "id": "1O2CBxmxtm4y",
        "colab": {
          "base_uri": "https://localhost:8080/"
        },
        "outputId": "a75ffece-1d0c-4e39-e245-69bfa48b53f9"
      },
      "outputs": [
        {
          "output_type": "stream",
          "name": "stdout",
          "text": [
            "Test accuracy: 0.7446540880503144\n"
          ]
        }
      ],
      "source": [
        "model.load_state_dict(torch.load('model.pkl'))\n",
        "acc_test = test(model, dataloaders['tar'])\n",
        "print(f'Test accuracy: {acc_test}')"
      ]
    },
    {
      "cell_type": "markdown",
      "metadata": {
        "id": "I7Iuk_Mitm4z"
      },
      "source": [
        "여기까지가 fine-tuning 파트입니다. 실제 학습에서는 learning rate decay 같은 기법도 사용하지만, 이 과제에서는 그것이 핵심이 아니므로 생략합니다.\n",
        "\n",
        "이제 같은 dataloader를 그대로 활용해서 domain adaptation 실험을 이어가봅시다."
      ]
    },
    {
      "cell_type": "markdown",
      "metadata": {
        "id": "bO4c_QcGtm4z"
      },
      "source": [
        "# Domain Adaptation"
      ]
    },
    {
      "cell_type": "markdown",
      "metadata": {
        "id": "VJwcwLQftm40"
      },
      "source": [
        "Domain adaptation의 핵심 구조는 fine-tuning과 매우 비슷하지만,\n",
        "두 도메인 간 분포 차이를 줄이기 위한 loss function을 추가해야 합니다.\n",
        "\n",
        "여기서는 MMD와 Coral loss를 사용해 두 도메인 간 분포 차이를 계산하는 loss function을 정의합니다.\n",
        "\n",
        "해당 loss를 이용할 수 있도록 새로운 모델 클래스를 정의하고 source의 feature와 label, 그리고 target feature를 모두 이용하도록 학습 스크립트를 수정해봅시다."
      ]
    },
    {
      "cell_type": "markdown",
      "metadata": {
        "id": "Jy_1xwdJtm40"
      },
      "source": [
        "### Loss function\n",
        "Domain Adaptation에서 가장 많이 사용되는 손실 함수는 MMD (Maximum Mean Discrepancy)입니다.\n",
        "\n",
        "비교를 위해 또 다른 대표적인 손실 함수인 CORAL (CORrelation ALignment)도 함께 살펴봅니다."
      ]
    },
    {
      "cell_type": "markdown",
      "metadata": {
        "id": "z3-wKorUtm40"
      },
      "source": [
        "#### MMD loss"
      ]
    },
    {
      "cell_type": "code",
      "execution_count": 23,
      "metadata": {
        "id": "MpQH6VFwtm41"
      },
      "outputs": [],
      "source": [
        "class MMD_loss(nn.Module):\n",
        "    def __init__(self, kernel_type='rbf', kernel_mul=2.0, kernel_num=5):\n",
        "        super(MMD_loss, self).__init__()\n",
        "        self.kernel_num = kernel_num\n",
        "        self.kernel_mul = kernel_mul\n",
        "        self.fix_sigma = None\n",
        "        self.kernel_type = kernel_type\n",
        "\n",
        "    def guassian_kernel(self, source, target, kernel_mul=2.0, kernel_num=5, fix_sigma=None):\n",
        "        n_samples = int(source.size()[0]) + int(target.size()[0])\n",
        "        total = torch.cat([source, target], dim=0)\n",
        "        total0 = total.unsqueeze(0).expand(\n",
        "            int(total.size(0)), int(total.size(0)), int(total.size(1)))\n",
        "        total1 = total.unsqueeze(1).expand(\n",
        "            int(total.size(0)), int(total.size(0)), int(total.size(1)))\n",
        "        L2_distance = ((total0-total1)**2).sum(2)\n",
        "        if fix_sigma:\n",
        "            bandwidth = fix_sigma\n",
        "        else:\n",
        "            bandwidth = torch.sum(L2_distance.data) / (n_samples**2-n_samples)\n",
        "        bandwidth /= kernel_mul ** (kernel_num // 2)\n",
        "        bandwidth_list = [bandwidth * (kernel_mul**i)\n",
        "                          for i in range(kernel_num)]\n",
        "        kernel_val = [torch.exp(-L2_distance / bandwidth_temp)\n",
        "                      for bandwidth_temp in bandwidth_list]\n",
        "        return sum(kernel_val)\n",
        "\n",
        "    def linear_mmd2(self, f_of_X, f_of_Y):\n",
        "        loss = 0.0\n",
        "        delta = f_of_X.float().mean(0) - f_of_Y.float().mean(0)\n",
        "        loss = delta.dot(delta.T)\n",
        "        return loss\n",
        "\n",
        "    def forward(self, source, target):\n",
        "        if self.kernel_type == 'linear':\n",
        "            return self.linear_mmd2(source, target)\n",
        "        elif self.kernel_type == 'rbf':\n",
        "            batch_size = int(source.size()[0])\n",
        "            kernels = self.guassian_kernel(\n",
        "                source, target, kernel_mul=self.kernel_mul, kernel_num=self.kernel_num, fix_sigma=self.fix_sigma)\n",
        "            XX = torch.mean(kernels[:batch_size, :batch_size])\n",
        "            YY = torch.mean(kernels[batch_size:, batch_size:])\n",
        "            XY = torch.mean(kernels[:batch_size, batch_size:])\n",
        "            YX = torch.mean(kernels[batch_size:, :batch_size])\n",
        "            loss = torch.mean(XX + YY - XY - YX)\n",
        "            return loss\n"
      ]
    },
    {
      "cell_type": "markdown",
      "metadata": {
        "id": "NcfUy_2Dtm41"
      },
      "source": [
        "#### CORAL loss"
      ]
    },
    {
      "cell_type": "code",
      "execution_count": 24,
      "metadata": {
        "id": "uZhKJq15tm41"
      },
      "outputs": [],
      "source": [
        "def CORAL(source, target):\n",
        "    d = source.size(1)\n",
        "    ns, nt = source.size(0), target.size(0)\n",
        "\n",
        "    # source covariance\n",
        "    tmp_s = torch.ones((1, ns)).cuda() @ source\n",
        "    cs = (source.t() @ source - (tmp_s.t() @ tmp_s) / ns) / (ns - 1)\n",
        "\n",
        "    # target covariance\n",
        "    tmp_t = torch.ones((1, nt)).cuda() @ target\n",
        "    ct = (target.t() @ target - (tmp_t.t() @ tmp_t) / nt) / (nt - 1)\n",
        "\n",
        "    # frobenius norm\n",
        "    loss = (cs - ct).pow(2).sum().sqrt()\n",
        "    loss = loss / (4 * d * d)\n",
        "\n",
        "    return loss"
      ]
    },
    {
      "cell_type": "markdown",
      "metadata": {
        "id": "VB2cDp8Gtm41"
      },
      "source": [
        "### Model\n",
        "여기서도 backbone으로는 ResNet-50을 사용합니다.\n",
        "다만 이번에는 ResNet-50의 마지막 classifier layer를 제거한 feature extractor로 사용합니다."
      ]
    },
    {
      "cell_type": "code",
      "execution_count": 25,
      "metadata": {
        "id": "UOLx_OSxtm41"
      },
      "outputs": [],
      "source": [
        "from torchvision import models\n",
        "class ResNet50Fc(nn.Module):\n",
        "    def __init__(self):\n",
        "        super(ResNet50Fc, self).__init__()\n",
        "        model_resnet50 = models.resnet50(pretrained=True)\n",
        "        self.conv1 = model_resnet50.conv1\n",
        "        self.bn1 = model_resnet50.bn1\n",
        "        self.relu = model_resnet50.relu\n",
        "        self.maxpool = model_resnet50.maxpool\n",
        "        self.layer1 = model_resnet50.layer1\n",
        "        self.layer2 = model_resnet50.layer2\n",
        "        self.layer3 = model_resnet50.layer3\n",
        "        self.layer4 = model_resnet50.layer4\n",
        "        self.avgpool = model_resnet50.avgpool\n",
        "        self.__in_features = model_resnet50.fc.in_features\n",
        "\n",
        "    def forward(self, x):\n",
        "        x = self.conv1(x)\n",
        "        x = self.bn1(x)\n",
        "        x = self.relu(x)\n",
        "        x = self.maxpool(x)\n",
        "        x = self.layer1(x)\n",
        "        x = self.layer2(x)\n",
        "        x = self.layer3(x)\n",
        "        x = self.layer4(x)\n",
        "        x = self.avgpool(x)\n",
        "        x = x.view(x.size(0), -1)\n",
        "        return x\n",
        "\n",
        "    def output_num(self):\n",
        "        return self.__in_features"
      ]
    },
    {
      "cell_type": "markdown",
      "metadata": {
        "id": "IRgdNM3Wtm42"
      },
      "source": [
        "이제 Domain Adaptation을 위한 핵심 모델 클래스를 정의합니다.\n",
        "\n",
        "ResNet-50을 기반으로 하되, bottleneck layer와 새로운 fc layer를 추가합니다.\n",
        "\n",
        "중요한 점은 adapt_loss 함수로 우리가 정의한 MMD 또는 CORAL loss를 forward pass에서 함께 계산한다는 것입니다."
      ]
    },
    {
      "cell_type": "code",
      "execution_count": 28,
      "metadata": {
        "id": "oC5NKJpJtm42"
      },
      "outputs": [],
      "source": [
        "class TransferNet(nn.Module):\n",
        "    def __init__(self,\n",
        "                 num_class,\n",
        "                 base_net='resnet50',\n",
        "                 transfer_loss='mmd',\n",
        "                 use_bottleneck=True,\n",
        "                 bottleneck_width=256,\n",
        "                 width=1024):\n",
        "        super(TransferNet, self).__init__()\n",
        "        if base_net == 'resnet50':\n",
        "            resnet = models.resnet50(pretrained=True)\n",
        "            self.base_network = nn.Sequential(*list(resnet.children())[:-1], nn.Flatten())\n",
        "            feature_dim = 2048\n",
        "        else:\n",
        "            # Your own basenet\n",
        "            return None\n",
        "        self.use_bottleneck = use_bottleneck\n",
        "        self.transfer_loss = transfer_loss\n",
        "        ##TODO\n",
        "        bottleneck_list = [\n",
        "                nn.Linear(feature_dim, bottleneck_width),\n",
        "                nn.BatchNorm1d(bottleneck_width),\n",
        "                nn.ReLU(inplace=True),\n",
        "                nn.Dropout(0.5)\n",
        "            ]\n",
        "        self.bottleneck_layer = nn.Sequential(*bottleneck_list)\n",
        "        ##TODO\n",
        "        classifier_layer_list = [\n",
        "            nn.Linear(feature_dim, width),\n",
        "            nn.BatchNorm1d(width),\n",
        "            nn.ReLU(inplace=True),\n",
        "            nn.Linear(width, num_class)\n",
        "        ]\n",
        "        self.classifier_layer = nn.Sequential(*classifier_layer_list)\n",
        "\n",
        "        self.bottleneck_layer[0].weight.data.normal_(0, 0.005)\n",
        "        self.bottleneck_layer[0].bias.data.fill_(0.1)\n",
        "        for i in range(2):\n",
        "            self.classifier_layer[i * 3].weight.data.normal_(0, 0.01)\n",
        "            self.classifier_layer[i * 3].bias.data.fill_(0.0)\n",
        "\n",
        "    def forward(self, source, target):\n",
        "        source = self.base_network(source)\n",
        "        target = self.base_network(target)\n",
        "        source_clf = self.classifier_layer(source)\n",
        "        if self.use_bottleneck:\n",
        "            source = self.bottleneck_layer(source)\n",
        "            target = self.bottleneck_layer(target)\n",
        "        transfer_loss = self.adapt_loss(source, target, self.transfer_loss)\n",
        "        return source_clf, transfer_loss\n",
        "\n",
        "    def predict(self, x):\n",
        "        features = self.base_network(x)\n",
        "        clf = self.classifier_layer(features)\n",
        "        return clf\n",
        "\n",
        "    def adapt_loss(self, X, Y, adapt_loss):\n",
        "        \"\"\"Compute adaptation loss, currently we support mmd and coral\n",
        "\n",
        "        Arguments:\n",
        "            X {tensor} -- source matrix\n",
        "            Y {tensor} -- target matrix\n",
        "            adapt_loss {string} -- loss type, 'mmd' or 'coral'. You can add your own loss\n",
        "\n",
        "        Returns:\n",
        "            [tensor] -- adaptation loss tensor\n",
        "        \"\"\"\n",
        "        if adapt_loss == 'mmd':\n",
        "            mmd_loss = MMD_loss()\n",
        "            loss = mmd_loss(X, Y)\n",
        "        elif adapt_loss == 'coral':\n",
        "            loss = CORAL(X, Y)\n",
        "        else:\n",
        "            # Your own loss\n",
        "            loss = 0\n",
        "        return loss"
      ]
    },
    {
      "cell_type": "markdown",
      "metadata": {
        "id": "hAdPs27btm42"
      },
      "source": [
        "### Train\n",
        "이제 Domain Adaptation 모델을 학습시켜 봅시다."
      ]
    },
    {
      "cell_type": "code",
      "execution_count": 29,
      "metadata": {
        "id": "OK6P8uMDtm42",
        "colab": {
          "base_uri": "https://localhost:8080/"
        },
        "outputId": "fd240625-0ebf-4669-eed8-eb0737ab5989"
      },
      "outputs": [
        {
          "output_type": "stream",
          "name": "stderr",
          "text": [
            "/usr/local/lib/python3.11/dist-packages/torchvision/models/_utils.py:208: UserWarning: The parameter 'pretrained' is deprecated since 0.13 and may be removed in the future, please use 'weights' instead.\n",
            "  warnings.warn(\n",
            "/usr/local/lib/python3.11/dist-packages/torchvision/models/_utils.py:223: UserWarning: Arguments other than a weight enum or `None` for 'weights' are deprecated since 0.13 and may be removed in the future. The current behavior is equivalent to passing `weights=ResNet50_Weights.IMAGENET1K_V1`. You can also use `weights=ResNet50_Weights.DEFAULT` to get the most up-to-date weights.\n",
            "  warnings.warn(msg)\n"
          ]
        }
      ],
      "source": [
        "transfer_loss = 'mmd'\n",
        "learning_rate = 0.0001\n",
        "transfer_model = TransferNet(n_class, transfer_loss=transfer_loss, base_net='resnet50').cuda()\n",
        "optimizer = torch.optim.SGD([\n",
        "    {'params': transfer_model.base_network.parameters()},\n",
        "    {'params': transfer_model.bottleneck_layer.parameters(), 'lr': 10 * learning_rate},\n",
        "    {'params': transfer_model.classifier_layer.parameters(), 'lr': 10 * learning_rate},\n",
        "], lr=learning_rate, momentum=0.9, weight_decay=5e-4)\n",
        "lamb = 10 # weight for transfer loss, it is a hyperparameter that needs to be tuned"
      ]
    },
    {
      "cell_type": "markdown",
      "metadata": {
        "id": "4WpUfcHItm42"
      },
      "source": [
        "학습 함수에서는 source 데이터와 label, target 데이터를 모두 사용해야 하므로, source와 target의 dataloader를 zip으로 묶어서 동시에 iterate합니다.\n",
        "\n",
        "보통 두 도메인의 샘플 수는 다르기 때문에, 여러 epoch에 걸쳐 무작위로 잘 섞이면 전체 데이터를 충분히 학습할 수 있습니다."
      ]
    },
    {
      "cell_type": "code",
      "execution_count": 30,
      "metadata": {
        "id": "AGlVNI2ktm42"
      },
      "outputs": [],
      "source": [
        "def train(dataloaders, model, optimizer):\n",
        "    source_loader, target_train_loader, target_test_loader = dataloaders['src'], dataloaders['val'], dataloaders['tar']\n",
        "    len_source_loader = len(source_loader)\n",
        "    len_target_loader = len(target_train_loader)\n",
        "    best_acc = 0\n",
        "    stop = 0\n",
        "    n_batch = min(len_source_loader, len_target_loader)\n",
        "    for e in range(n_epoch):\n",
        "        stop += 1\n",
        "        train_loss_clf, train_loss_transfer, train_loss_total = 0, 0, 0\n",
        "        model.train()\n",
        "        for (src, tar) in zip(source_loader, target_train_loader):\n",
        "            data_source, label_source = src\n",
        "            data_target, _ = tar\n",
        "            data_source, label_source = data_source.cuda(), label_source.cuda()\n",
        "            data_target = data_target.cuda()\n",
        "\n",
        "            optimizer.zero_grad()\n",
        "            label_source_pred, transfer_loss = model(data_source, data_target)\n",
        "            clf_loss = criterion(label_source_pred, label_source)\n",
        "            loss = clf_loss + lamb * transfer_loss\n",
        "            loss.backward()\n",
        "            optimizer.step()\n",
        "            train_loss_clf = clf_loss.detach().item() + train_loss_clf\n",
        "            train_loss_transfer = transfer_loss.detach().item() + train_loss_transfer\n",
        "            train_loss_total = loss.detach().item() + train_loss_total\n",
        "        acc = test(model, target_test_loader)\n",
        "        print(f'Epoch: [{e:2d}/{n_epoch}], cls_loss: {train_loss_clf/n_batch:.4f}, transfer_loss: {train_loss_transfer/n_batch:.4f}, total_Loss: {train_loss_total/n_batch:.4f}, acc: {acc:.4f}')\n",
        "        if best_acc < acc:\n",
        "            best_acc = acc\n",
        "            torch.save(model.state_dict(), 'trans_model.pkl')\n",
        "            stop = 0\n",
        "        if stop >= early_stop:\n",
        "            break"
      ]
    },
    {
      "cell_type": "code",
      "execution_count": 32,
      "metadata": {
        "id": "nqSCG6-Xtm43",
        "scrolled": true,
        "colab": {
          "base_uri": "https://localhost:8080/"
        },
        "outputId": "6500aa17-58ac-42b6-c95d-2d07ebda8b36"
      },
      "outputs": [
        {
          "output_type": "stream",
          "name": "stdout",
          "text": [
            "Epoch: [ 0/100], cls_loss: 3.2897, transfer_loss: 0.1652, total_Loss: 4.9421, acc: 0.3572\n",
            "Epoch: [ 1/100], cls_loss: 2.7333, transfer_loss: 0.1631, total_Loss: 4.3644, acc: 0.5296\n",
            "Epoch: [ 2/100], cls_loss: 2.1259, transfer_loss: 0.1643, total_Loss: 3.7686, acc: 0.6151\n",
            "Epoch: [ 3/100], cls_loss: 1.7601, transfer_loss: 0.1600, total_Loss: 3.3604, acc: 0.6642\n",
            "Epoch: [ 4/100], cls_loss: 1.5220, transfer_loss: 0.1594, total_Loss: 3.1157, acc: 0.6679\n",
            "Epoch: [ 5/100], cls_loss: 1.3491, transfer_loss: 0.1523, total_Loss: 2.8721, acc: 0.6704\n",
            "Epoch: [ 6/100], cls_loss: 1.2900, transfer_loss: 0.1384, total_Loss: 2.6737, acc: 0.7107\n",
            "Epoch: [ 7/100], cls_loss: 1.1226, transfer_loss: 0.1265, total_Loss: 2.3879, acc: 0.7019\n",
            "Epoch: [ 8/100], cls_loss: 1.1215, transfer_loss: 0.1097, total_Loss: 2.2180, acc: 0.7069\n",
            "Epoch: [ 9/100], cls_loss: 0.9373, transfer_loss: 0.1047, total_Loss: 1.9844, acc: 0.7082\n",
            "Epoch: [10/100], cls_loss: 0.9931, transfer_loss: 0.0982, total_Loss: 1.9752, acc: 0.7119\n",
            "Epoch: [11/100], cls_loss: 0.9062, transfer_loss: 0.0912, total_Loss: 1.8183, acc: 0.7119\n",
            "Epoch: [12/100], cls_loss: 0.8454, transfer_loss: 0.0904, total_Loss: 1.7499, acc: 0.7220\n",
            "Epoch: [13/100], cls_loss: 0.8312, transfer_loss: 0.0894, total_Loss: 1.7249, acc: 0.7157\n",
            "Epoch: [14/100], cls_loss: 0.8218, transfer_loss: 0.0868, total_Loss: 1.6895, acc: 0.7333\n",
            "Epoch: [15/100], cls_loss: 0.7549, transfer_loss: 0.0879, total_Loss: 1.6340, acc: 0.7384\n",
            "Epoch: [16/100], cls_loss: 0.8038, transfer_loss: 0.0820, total_Loss: 1.6237, acc: 0.7308\n",
            "Epoch: [17/100], cls_loss: 0.7128, transfer_loss: 0.0832, total_Loss: 1.5444, acc: 0.7308\n",
            "Epoch: [18/100], cls_loss: 0.7269, transfer_loss: 0.0847, total_Loss: 1.5741, acc: 0.7107\n",
            "Epoch: [19/100], cls_loss: 0.6782, transfer_loss: 0.0815, total_Loss: 1.4936, acc: 0.7082\n",
            "Epoch: [20/100], cls_loss: 0.6634, transfer_loss: 0.0800, total_Loss: 1.4638, acc: 0.7245\n",
            "Epoch: [21/100], cls_loss: 0.6463, transfer_loss: 0.0777, total_Loss: 1.4235, acc: 0.7321\n",
            "Epoch: [22/100], cls_loss: 0.6677, transfer_loss: 0.0746, total_Loss: 1.4136, acc: 0.7346\n",
            "Epoch: [23/100], cls_loss: 0.6503, transfer_loss: 0.0783, total_Loss: 1.4335, acc: 0.7308\n",
            "Epoch: [24/100], cls_loss: 0.6108, transfer_loss: 0.0754, total_Loss: 1.3647, acc: 0.7396\n",
            "Epoch: [25/100], cls_loss: 0.6115, transfer_loss: 0.0756, total_Loss: 1.3678, acc: 0.7308\n",
            "Epoch: [26/100], cls_loss: 0.5806, transfer_loss: 0.0706, total_Loss: 1.2868, acc: 0.7245\n",
            "Epoch: [27/100], cls_loss: 0.5755, transfer_loss: 0.0735, total_Loss: 1.3109, acc: 0.7358\n",
            "Epoch: [28/100], cls_loss: 0.5554, transfer_loss: 0.0695, total_Loss: 1.2508, acc: 0.7233\n",
            "Epoch: [29/100], cls_loss: 0.5161, transfer_loss: 0.0718, total_Loss: 1.2338, acc: 0.7208\n",
            "Epoch: [30/100], cls_loss: 0.5298, transfer_loss: 0.0677, total_Loss: 1.2070, acc: 0.7384\n",
            "Epoch: [31/100], cls_loss: 0.5634, transfer_loss: 0.0700, total_Loss: 1.2632, acc: 0.7358\n",
            "Epoch: [32/100], cls_loss: 0.5102, transfer_loss: 0.0699, total_Loss: 1.2094, acc: 0.7308\n",
            "Epoch: [33/100], cls_loss: 0.4794, transfer_loss: 0.0683, total_Loss: 1.1628, acc: 0.7245\n",
            "Epoch: [34/100], cls_loss: 0.4746, transfer_loss: 0.0760, total_Loss: 1.2346, acc: 0.7346\n",
            "Epoch: [35/100], cls_loss: 0.5316, transfer_loss: 0.0674, total_Loss: 1.2053, acc: 0.7270\n",
            "Epoch: [36/100], cls_loss: 0.4835, transfer_loss: 0.0691, total_Loss: 1.1749, acc: 0.7396\n",
            "Epoch: [37/100], cls_loss: 0.4796, transfer_loss: 0.0678, total_Loss: 1.1580, acc: 0.7283\n",
            "Epoch: [38/100], cls_loss: 0.5243, transfer_loss: 0.0686, total_Loss: 1.2108, acc: 0.7333\n",
            "Epoch: [39/100], cls_loss: 0.4673, transfer_loss: 0.0649, total_Loss: 1.1165, acc: 0.7195\n",
            "Epoch: [40/100], cls_loss: 0.4631, transfer_loss: 0.0628, total_Loss: 1.0913, acc: 0.7371\n",
            "Epoch: [41/100], cls_loss: 0.5010, transfer_loss: 0.0624, total_Loss: 1.1248, acc: 0.7421\n",
            "Epoch: [42/100], cls_loss: 0.4837, transfer_loss: 0.0613, total_Loss: 1.0966, acc: 0.7321\n",
            "Epoch: [43/100], cls_loss: 0.4570, transfer_loss: 0.0644, total_Loss: 1.1010, acc: 0.7308\n",
            "Epoch: [44/100], cls_loss: 0.4399, transfer_loss: 0.0634, total_Loss: 1.0739, acc: 0.7346\n",
            "Epoch: [45/100], cls_loss: 0.4200, transfer_loss: 0.0671, total_Loss: 1.0906, acc: 0.7258\n",
            "Epoch: [46/100], cls_loss: 0.4487, transfer_loss: 0.0640, total_Loss: 1.0885, acc: 0.7270\n",
            "Epoch: [47/100], cls_loss: 0.4174, transfer_loss: 0.0709, total_Loss: 1.1260, acc: 0.7195\n",
            "Epoch: [48/100], cls_loss: 0.4400, transfer_loss: 0.0655, total_Loss: 1.0947, acc: 0.7208\n",
            "Epoch: [49/100], cls_loss: 0.4407, transfer_loss: 0.0608, total_Loss: 1.0491, acc: 0.7296\n",
            "Epoch: [50/100], cls_loss: 0.4026, transfer_loss: 0.0705, total_Loss: 1.1080, acc: 0.7283\n",
            "Epoch: [51/100], cls_loss: 0.4516, transfer_loss: 0.0635, total_Loss: 1.0870, acc: 0.7195\n",
            "Epoch: [52/100], cls_loss: 0.4213, transfer_loss: 0.0605, total_Loss: 1.0261, acc: 0.7296\n",
            "Epoch: [53/100], cls_loss: 0.3775, transfer_loss: 0.0573, total_Loss: 0.9504, acc: 0.7296\n",
            "Epoch: [54/100], cls_loss: 0.4034, transfer_loss: 0.0621, total_Loss: 1.0249, acc: 0.7371\n",
            "Epoch: [55/100], cls_loss: 0.4112, transfer_loss: 0.0588, total_Loss: 0.9997, acc: 0.7346\n",
            "Epoch: [56/100], cls_loss: 0.3836, transfer_loss: 0.0589, total_Loss: 0.9722, acc: 0.7094\n",
            "Epoch: [57/100], cls_loss: 0.3307, transfer_loss: 0.0546, total_Loss: 0.8771, acc: 0.7182\n",
            "Epoch: [58/100], cls_loss: 0.3534, transfer_loss: 0.0617, total_Loss: 0.9702, acc: 0.7333\n",
            "Epoch: [59/100], cls_loss: 0.3361, transfer_loss: 0.0592, total_Loss: 0.9283, acc: 0.7396\n",
            "Epoch: [60/100], cls_loss: 0.3542, transfer_loss: 0.0605, total_Loss: 0.9594, acc: 0.7296\n",
            "Epoch: [61/100], cls_loss: 0.3652, transfer_loss: 0.0586, total_Loss: 0.9509, acc: 0.7270\n"
          ]
        }
      ],
      "source": [
        "# TODO: Domain Adaptation 모델을 학습시키는 함수를 호출하여 학습 진행\n",
        "train(dataloaders, transfer_model, optimizer)"
      ]
    },
    {
      "cell_type": "code",
      "execution_count": 33,
      "metadata": {
        "id": "yWvYODRDtm43",
        "colab": {
          "base_uri": "https://localhost:8080/"
        },
        "outputId": "8ab6e557-4c44-4d52-dc18-e4f009c93c20"
      },
      "outputs": [
        {
          "output_type": "stream",
          "name": "stdout",
          "text": [
            "Test accuracy: 0.7421383647798742\n"
          ]
        }
      ],
      "source": [
        "transfer_model.load_state_dict(torch.load('trans_model.pkl'))\n",
        "acc_test = test(transfer_model, dataloaders['tar'])\n",
        "print(f'Test accuracy: {acc_test}')"
      ]
    },
    {
      "cell_type": "code",
      "source": [],
      "metadata": {
        "id": "XOKpx4eCynBo"
      },
      "execution_count": null,
      "outputs": []
    }
  ],
  "metadata": {
    "colab": {
      "provenance": [],
      "machine_shape": "hm",
      "gpuType": "T4"
    },
    "kernelspec": {
      "display_name": "Python 3",
      "name": "python3"
    },
    "language_info": {
      "codemirror_mode": {
        "name": "ipython",
        "version": 3
      },
      "file_extension": ".py",
      "mimetype": "text/x-python",
      "name": "python",
      "nbconvert_exporter": "python",
      "pygments_lexer": "ipython3",
      "version": "3.9.21"
    },
    "accelerator": "GPU"
  },
  "nbformat": 4,
  "nbformat_minor": 0
}