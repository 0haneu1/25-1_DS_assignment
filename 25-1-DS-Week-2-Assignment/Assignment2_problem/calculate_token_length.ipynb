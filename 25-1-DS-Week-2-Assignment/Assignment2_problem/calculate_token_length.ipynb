{
 "cells": [
  {
   "cell_type": "code",
   "execution_count": 29,
   "metadata": {},
   "outputs": [
    {
     "ename": "FileNotFoundError",
     "evalue": "[Errno 2] No such file or directory: 'cqa/cqa_vanilla_10/cqa_vanilla_10_0/correct_data.txt'",
     "output_type": "error",
     "traceback": [
      "\u001b[0;31m---------------------------------------------------------------------------\u001b[0m",
      "\u001b[0;31mFileNotFoundError\u001b[0m                         Traceback (most recent call last)",
      "Cell \u001b[0;32mIn[29], line 23\u001b[0m\n\u001b[1;32m     20\u001b[0m         \u001b[39mreturn\u001b[39;00m \u001b[39mNone\u001b[39;00m, \u001b[39m0\u001b[39m\n\u001b[1;32m     22\u001b[0m \u001b[39m# 텍스트 파일 읽기 (예시 파일명: data.txt)\u001b[39;00m\n\u001b[0;32m---> 23\u001b[0m \u001b[39mwith\u001b[39;00m \u001b[39mopen\u001b[39;49m(\u001b[39m\"\u001b[39;49m\u001b[39mcqa/cqa_vanilla_10/cqa_vanilla_10_0/correct_data.txt\u001b[39;49m\u001b[39m\"\u001b[39;49m, \u001b[39m\"\u001b[39;49m\u001b[39mr\u001b[39;49m\u001b[39m\"\u001b[39;49m, encoding\u001b[39m=\u001b[39;49m\u001b[39m\"\u001b[39;49m\u001b[39mutf-8\u001b[39;49m\u001b[39m\"\u001b[39;49m) \u001b[39mas\u001b[39;00m file:\n\u001b[1;32m     24\u001b[0m     content \u001b[39m=\u001b[39m file\u001b[39m.\u001b[39mread()\n\u001b[1;32m     26\u001b[0m \u001b[39m# 각 데이터 블록은 \"<|end_of_text|>\" 로 구분되어 있다고 가정\u001b[39;00m\n",
      "File \u001b[0;32m/opt/homebrew/Caskroom/miniforge/base/envs/YBIGTA/lib/python3.9/site-packages/IPython/core/interactiveshell.py:284\u001b[0m, in \u001b[0;36m_modified_open\u001b[0;34m(file, *args, **kwargs)\u001b[0m\n\u001b[1;32m    277\u001b[0m \u001b[39mif\u001b[39;00m file \u001b[39min\u001b[39;00m {\u001b[39m0\u001b[39m, \u001b[39m1\u001b[39m, \u001b[39m2\u001b[39m}:\n\u001b[1;32m    278\u001b[0m     \u001b[39mraise\u001b[39;00m \u001b[39mValueError\u001b[39;00m(\n\u001b[1;32m    279\u001b[0m         \u001b[39mf\u001b[39m\u001b[39m\"\u001b[39m\u001b[39mIPython won\u001b[39m\u001b[39m'\u001b[39m\u001b[39mt let you open fd=\u001b[39m\u001b[39m{\u001b[39;00mfile\u001b[39m}\u001b[39;00m\u001b[39m by default \u001b[39m\u001b[39m\"\u001b[39m\n\u001b[1;32m    280\u001b[0m         \u001b[39m\"\u001b[39m\u001b[39mas it is likely to crash IPython. If you know what you are doing, \u001b[39m\u001b[39m\"\u001b[39m\n\u001b[1;32m    281\u001b[0m         \u001b[39m\"\u001b[39m\u001b[39myou can use builtins\u001b[39m\u001b[39m'\u001b[39m\u001b[39m open.\u001b[39m\u001b[39m\"\u001b[39m\n\u001b[1;32m    282\u001b[0m     )\n\u001b[0;32m--> 284\u001b[0m \u001b[39mreturn\u001b[39;00m io_open(file, \u001b[39m*\u001b[39;49margs, \u001b[39m*\u001b[39;49m\u001b[39m*\u001b[39;49mkwargs)\n",
      "\u001b[0;31mFileNotFoundError\u001b[0m: [Errno 2] No such file or directory: 'cqa/cqa_vanilla_10/cqa_vanilla_10_0/correct_data.txt'"
     ]
    }
   ],
   "source": [
    "import re\n",
    "from transformers import AutoTokenizer\n",
    "\n",
    "# GPT-2 토크나이저 초기화\n",
    "tokenizer = AutoTokenizer.from_pretrained(\"meta-llama/Llama-3.2-3B\")\n",
    "\n",
    "\n",
    "def extract_answer_token_length(text):\n",
    "    \"\"\"\n",
    "    주어진 텍스트에서 \"A:\" 이후의 텍스트를 추출하고,\n",
    "    해당 부분의 토큰 길이를 반환합니다.\n",
    "    \"\"\"\n",
    "    match = re.search(r\"A:\\s*(.*)\", text, re.DOTALL)\n",
    "    if match:\n",
    "        answer_text = match.group(1).strip()\n",
    "        tokens = tokenizer.tokenize(answer_text)\n",
    "        token_count = len(tokens)\n",
    "        return answer_text, token_count\n",
    "    else:\n",
    "        return None, 0\n",
    "\n",
    "# 텍스트 파일 읽기 (예시 파일명: data.txt)\n",
    "with open(\"cqa/cqa_vanilla_10/cqa_vanilla_10_0/correct_data.txt\", \"r\", encoding=\"utf-8\") as file:\n",
    "    content = file.read()\n",
    "\n",
    "# 각 데이터 블록은 \"<|end_of_text|>\" 로 구분되어 있다고 가정\n",
    "blocks = content.split(\"<|end_of_text|>\")\n",
    "\n",
    "max_token_length = 0  # 전체 블록 중 최대 토큰 개수를 저장할 변수\n",
    "max_sentence=''\n",
    "gen_length=0\n",
    "\n",
    "for i, block in enumerate(blocks):\n",
    "    # \"A:\" 이후 텍스트와 토큰 수 계산\n",
    "    answer_text, answer_token_count = extract_answer_token_length(block)\n",
    "    # 블록 전체의 토큰 수 계산\n",
    "    block_tokens = tokenizer.tokenize(block)\n",
    "    block_token_count = len(block_tokens)    \n",
    "    \n",
    "    # 최대 토큰 개수 갱신\n",
    "    if block_token_count > max_token_length:\n",
    "        max_token_length = block_token_count\n",
    "        gen_length=answer_token_count\n",
    "        max_sentence=answer_text\n",
    "\n",
    "print(\"전체 블록 중 최대 토큰 개수 (max token length):\", max_token_length)\n",
    "print(\"전체 블록 중 최대 생성토큰 개수 (gen_length):\", gen_length)\n",
    "print(\"전체 블록 중 최대 토큰 결과 (max_sentence):\", max_sentence)"
   ]
  },
  {
   "cell_type": "code",
   "execution_count": null,
   "metadata": {},
   "outputs": [],
   "source": []
  }
 ],
 "metadata": {
  "kernelspec": {
   "display_name": "YBIGTA",
   "language": "python",
   "name": "python3"
  },
  "language_info": {
   "codemirror_mode": {
    "name": "ipython",
    "version": 3
   },
   "file_extension": ".py",
   "mimetype": "text/x-python",
   "name": "python",
   "nbconvert_exporter": "python",
   "pygments_lexer": "ipython3",
   "version": "3.9.7"
  }
 },
 "nbformat": 4,
 "nbformat_minor": 2
}
